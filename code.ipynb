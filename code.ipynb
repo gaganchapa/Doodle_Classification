{
 "cells": [
  {
   "cell_type": "code",
   "execution_count": 1,
   "metadata": {},
   "outputs": [],
   "source": [
    "import numpy as np\n",
    "import os\n",
    "from PIL import Image\n",
    "\n",
    "\n",
    "def load(dir, files, reshaped):\n",
    "    \"Load .npy or .npz files from disk and return them as numpy arrays. \\\n",
    "    Takes in a list of filenames and returns a list of numpy arrays.\"\n",
    "\n",
    "    data = []\n",
    "    for file in files:\n",
    "        f = np.load(dir + file)\n",
    "        if reshaped:\n",
    "            new_f = []\n",
    "            for i in range(len(f)):\n",
    "                x = np.reshape(f[i], (28, 28))\n",
    "                x = np.expand_dims(x, axis=0)\n",
    "                x = np.reshape(f[i], (28, 28, 1))\n",
    "                new_f.append(x)\n",
    "            f = new_f\n",
    "        data.append(f)\n",
    "    return data\n",
    "\n",
    "\n",
    "def normalize(data):\n",
    "    \"Takes a list or a list of lists and returns its normalized form\"\n",
    "\n",
    "    return np.interp(data, [0, 255], [-1, 1])\n",
    "\n",
    "\n",
    "def denormalize(data):\n",
    "    \"Takes a list or a list of lists and returns its denormalized form\"\n",
    "\n",
    "    return np.interp(data, [-1, 1], [0, 255])\n",
    "\n",
    "\n",
    "def visualize(array):\n",
    "    \"Visulaze a 2D array as an Image\"\n",
    "\n",
    "    img = Image.fromarray(array)\n",
    "    img.show(title=\"Visulizing array\")\n",
    "\n",
    "\n",
    "def set_limit(arrays, n):\n",
    "    \"Limit elements from each array up to n elements and return a single list\"\n",
    "    new = []\n",
    "    for array in arrays:\n",
    "        i = 0\n",
    "        for item in array:\n",
    "            if i == n:\n",
    "                break\n",
    "            new.append(item)\n",
    "            i += 1\n",
    "    return new\n",
    "\n",
    "\n",
    "def make_labels(N1, N2):\n",
    "    \"make labels from 0 to N1, each repeated N2 times\"\n",
    "    labels = []\n",
    "    for i in range(N1):\n",
    "        labels += [i] * N2\n",
    "    return labels"
   ]
  },
  {
   "cell_type": "code",
   "execution_count": 2,
   "metadata": {},
   "outputs": [],
   "source": [
    "# Keras\n",
    "from keras.preprocessing.text import Tokenizer\n",
    "# from tensorflow.keras.utils.sequence import pad_sequences\n",
    "from keras.utils import pad_sequences\n",
    "\n",
    "from keras.models import Sequential\n",
    "from keras.layers import Activation, Dense, Dropout, Embedding, Flatten, Conv1D, MaxPooling1D, LSTM\n",
    "from keras import utils\n",
    "from keras.callbacks import ReduceLROnPlateau, EarlyStopping\n",
    "import tensorflow as tf\n",
    "\n",
    "from tensorflow.keras import datasets, layers, models\n",
    "import matplotlib.pyplot as plt"
   ]
  },
  {
   "cell_type": "code",
   "execution_count": 3,
   "metadata": {},
   "outputs": [
    {
     "name": "stdout",
     "output_type": "stream",
     "text": [
      "Updated FRUITS Dictionary:\n",
      "{0: 'apple', 1: 'banana', 2: 'calculator', 3: 'candle', 4: 'circle', 5: 'cloud', 6: 'donut', 7: 'fish', 8: 'flower', 9: 'hexagon', 10: 'house', 11: 'ladder', 12: 'pizza', 13: 'square', 14: 'sword', 15: 'watermelon', 16: 'wheel'}\n"
     ]
    }
   ],
   "source": [
    "import os\n",
    "\n",
    "# Function to extract the last underscore element\n",
    "def extract_name(filename):\n",
    "    return filename.rsplit('_', 1)[-1].rsplit('.', 1)[0]\n",
    "\n",
    "# Define the directory path\n",
    "directory = \"data/\"\n",
    "\n",
    "# List all the files in the directory\n",
    "files = os.listdir(directory)\n",
    "\n",
    "# Create an empty dictionary for FRUITS\n",
    "FRUITS = {}\n",
    "\n",
    "# Iterate through the files\n",
    "for i, file in enumerate(files):\n",
    "    fruit_name = extract_name(file)\n",
    "    FRUITS[i] = fruit_name\n",
    "\n",
    "# Print the updated FRUITS dictionary\n",
    "print(\"Updated FRUITS Dictionary:\")\n",
    "print(FRUITS)\n"
   ]
  },
  {
   "cell_type": "code",
   "execution_count": 4,
   "metadata": {},
   "outputs": [],
   "source": [
    "files=[]\n",
    "for value in FRUITS.values():\n",
    "    files.append(\"full_numpy_bitmap_\"+value + \".npy\")"
   ]
  },
  {
   "cell_type": "code",
   "execution_count": 5,
   "metadata": {},
   "outputs": [
    {
     "data": {
      "text/plain": [
       "17"
      ]
     },
     "execution_count": 5,
     "metadata": {},
     "output_type": "execute_result"
    }
   ],
   "source": [
    "len(files)"
   ]
  },
  {
   "cell_type": "code",
   "execution_count": 6,
   "metadata": {},
   "outputs": [
    {
     "data": {
      "text/plain": [
       "170000"
      ]
     },
     "execution_count": 6,
     "metadata": {},
     "output_type": "execute_result"
    }
   ],
   "source": [
    "# from prepare_data import *\n",
    "from sklearn.model_selection import train_test_split as tts\n",
    "import tensorflow as tf\n",
    "from tensorflow.keras.models import Sequential\n",
    "from tensorflow.keras.layers import Dense, Dropout, Flatten, Conv2D, MaxPooling2D\n",
    "from tensorflow.keras.utils import to_categorical\n",
    "from random import randint\n",
    "\n",
    "# define some constants\n",
    "N_FRUITS = 17\n",
    "# FRUITS = {0: \"Apple\", 1: \"Banana\",2:\"\"}\n",
    "\n",
    "# number of samples to take in each class\n",
    "N = 10000\n",
    "\n",
    "# some other constants\n",
    "N_EPOCHS = 2\n",
    "\n",
    "# data files in the same order as defined in FRUITS\n",
    "# files = []\n",
    "\n",
    "# images need to be 28x28 for training with a ConvNet\n",
    "fruits = load(\"data/\", files, reshaped=True)\n",
    "\n",
    "\n",
    "\n",
    "\n",
    "# limit no of samples in each class to N\n",
    "fruits = set_limit(fruits, N)\n",
    "\n",
    "# normalize the values\n",
    "fruits=list(map(normalize, fruits))\n",
    "# define the labels\n",
    "labels = make_labels(N_FRUITS, N)\n",
    "len(fruits)"
   ]
  },
  {
   "cell_type": "code",
   "execution_count": 7,
   "metadata": {},
   "outputs": [
    {
     "data": {
      "image/png": "[encoded data removed]",
      "text/plain": [
       "<Figure size 640x480 with 1 Axes>"
      ]
     },
     "metadata": {},
     "output_type": "display_data"
    }
   ],
   "source": [
    "# fruits[0]\n",
    "plt.imshow(fruits[0])\n",
    "plt.show()"
   ]
  },
  {
   "attachments": {},
   "cell_type": "markdown",
   "metadata": {},
   "source": [
    "## Model workflow"
   ]
  },
  {
   "cell_type": "code",
   "execution_count": 8,
   "metadata": {},
   "outputs": [],
   "source": [
    "\n",
    "# prepare the data\n",
    "x_train, x_test, y_train, y_test = tts(fruits, labels, test_size=0.3)\n",
    "\n",
    "# one hot encoding\n",
    "Y_train = to_categorical(y_train, N_FRUITS)\n",
    "Y_test = to_categorical(y_test, N_FRUITS)\n"
   ]
  },
  {
   "cell_type": "code",
   "execution_count": 9,
   "metadata": {},
   "outputs": [],
   "source": [
    "\n",
    "# use our custom designed ConvNet model\n",
    "model = Sequential([\n",
    "    Conv2D(32, kernel_size=(3, 3), activation='relu', input_shape=(28, 28, 1)),\n",
    "    MaxPooling2D(pool_size=(2, 2)),\n",
    "    Conv2D(64, kernel_size=(3, 3), activation='relu'),  \n",
    "    MaxPooling2D(pool_size=(2, 2)),\n",
    "    Dropout(0.25),\n",
    "    Flatten(),\n",
    "    Dense(128, activation='relu'),\n",
    "    # Dropout(0.5),\n",
    "    Dense(N_FRUITS, activation='softmax')\n",
    "])\n",
    "\n",
    "\n",
    "model.compile(loss='categorical_crossentropy',\n",
    "              optimizer='adam',\n",
    "              metrics=['accuracy'])\n",
    "\n"
   ]
  },
  {
   "cell_type": "code",
   "execution_count": 10,
   "metadata": {},
   "outputs": [],
   "source": [
    "lr_schedule = tf.keras.callbacks.LearningRateScheduler(\n",
    "    lambda epoch: 1e-8 * 10**(epoch/2)\n",
    ")"
   ]
  },
  {
   "cell_type": "code",
   "execution_count": 11,
   "metadata": {},
   "outputs": [
    {
     "name": "stdout",
     "output_type": "stream",
     "text": [
      "Epoch 1/5\n",
      "1488/1488 [==============================] - 30s 5ms/step - loss: 0.5546 - accuracy: 0.8314 - val_loss: 0.3405 - val_accuracy: 0.8975\n",
      "Epoch 2/5\n",
      "1488/1488 [==============================] - 7s 5ms/step - loss: 0.3260 - accuracy: 0.9015 - val_loss: 0.2869 - val_accuracy: 0.9134\n",
      "Epoch 3/5\n",
      "1488/1488 [==============================] - 8s 5ms/step - loss: 0.2730 - accuracy: 0.9169 - val_loss: 0.2701 - val_accuracy: 0.9179\n",
      "Epoch 4/5\n",
      "1488/1488 [==============================] - 8s 5ms/step - loss: 0.2387 - accuracy: 0.9248 - val_loss: 0.2596 - val_accuracy: 0.9191\n",
      "Epoch 5/5\n",
      "1488/1488 [==============================] - 8s 5ms/step - loss: 0.2152 - accuracy: 0.9323 - val_loss: 0.2480 - val_accuracy: 0.9237\n"
     ]
    }
   ],
   "source": [
    "\n",
    "history = model.fit(np.array(x_train), np.array(Y_train), batch_size=64, epochs=5, verbose=1,validation_split=0.2)\n"
   ]
  },
  {
   "cell_type": "code",
   "execution_count": 12,
   "metadata": {},
   "outputs": [
    {
     "name": "stdout",
     "output_type": "stream",
     "text": [
      "Training complete\n",
      "Evaluating model\n",
      "1594/1594 [==============================] - 2s 1ms/step\n",
      "Accuracy:  92.26274509803922\n",
      "Model saved\n",
      "Testing mode\n",
      "1/1 [==============================] - 0s 89ms/step\n",
      "Actual: calculator\n",
      "Predicted: [[5.5527414e-07 1.6845016e-08 9.9926490e-01 1.3068739e-04 9.8946839e-06\n",
      "  4.3534118e-07 1.7366630e-06 5.8135178e-08 5.4212551e-06 3.9701710e-05\n",
      "  3.1443487e-04 3.6978581e-05 6.3269836e-06 1.8531641e-04 1.3108212e-07\n",
      "  3.1955467e-06 8.1290054e-08]]\n"
     ]
    },
    {
     "data": {
      "image/png": "[encoded data removed]",
      "text/plain": [
       "<Figure size 640x480 with 1 Axes>"
      ]
     },
     "metadata": {},
     "output_type": "display_data"
    }
   ],
   "source": [
    "\n",
    "print(\"Training complete\")\n",
    "\n",
    "print(\"Evaluating model\")\n",
    "preds = model.predict(np.array(x_test))\n",
    "\n",
    "score = 0\n",
    "for i in range(len(preds)):\n",
    "    if np.argmax(preds[i]) == y_test[i]:\n",
    "        score += 1\n",
    "\n",
    "print(\"Accuracy: \", ((score + 0.0) / len(preds)) * 100)\n",
    "\n",
    "model.save(\"model\" + \".h5\")\n",
    "print(\"Model saved\")\n",
    "\n",
    "\n",
    "def visualize_and_predict():\n",
    "    n = randint(0, len(x_test))\n",
    "    plt.imshow(x_test[n])\n",
    "    # visualize(denormalize(np.reshape(x_test[n], (28, 28))))\n",
    "    # pred = FRUITS[np.argmax(model.predict(np.array([x_test[n]])))]\n",
    "    pred=model.predict(np.array([x_test[n]]))\n",
    "    actual = FRUITS[y_test[n]]\n",
    "    print(\"Actual:\", actual)\n",
    "    print(\"Predicted:\", pred)\n",
    "\n",
    "\n",
    "print(\"Testing mode\")\n",
    "visualize_and_predict()"
   ]
  },
  {
   "cell_type": "code",
   "execution_count": 13,
   "metadata": {},
   "outputs": [],
   "source": [
    "# # !pip install visualkeras\n",
    "# import visualkeras\n",
    "# visualkeras.layered_view(model,legend=True, draw_volume=True)\n"
   ]
  },
  {
   "attachments": {},
   "cell_type": "markdown",
   "metadata": {},
   "source": [
    "## Loss Plot"
   ]
  },
  {
   "cell_type": "code",
   "execution_count": 14,
   "metadata": {},
   "outputs": [
    {
     "data": {
      "image/png": "[encoded data removed]",
      "text/plain": [
       "<Figure size 640x480 with 1 Axes>"
      ]
     },
     "metadata": {},
     "output_type": "display_data"
    }
   ],
   "source": [
    "import matplotlib.pyplot as plt\n",
    "plt.plot(history.history[\"loss\"],label=\"train\")\n",
    "plt.legend()\n",
    "plt.show()"
   ]
  },
  {
   "attachments": {},
   "cell_type": "markdown",
   "metadata": {},
   "source": [
    "## Train Plot"
   ]
  },
  {
   "cell_type": "code",
   "execution_count": 15,
   "metadata": {},
   "outputs": [
    {
     "data": {
      "image/png": "[encoded data removed]",
      "text/plain": [
       "<Figure size 640x480 with 1 Axes>"
      ]
     },
     "metadata": {},
     "output_type": "display_data"
    }
   ],
   "source": [
    "import matplotlib.pyplot as plt\n",
    "plt.plot(history.history[\"accuracy\"],label=\"train\")\n",
    "plt.legend()\n",
    "plt.show()"
   ]
  },
  {
   "attachments": {},
   "cell_type": "markdown",
   "metadata": {},
   "source": [
    "## Testing"
   ]
  },
  {
   "cell_type": "code",
   "execution_count": 16,
   "metadata": {},
   "outputs": [
    {
     "data": {
      "image/png": "[encoded data removed]",
      "text/plain": [
       "<Figure size 640x480 with 1 Axes>"
      ]
     },
     "metadata": {},
     "output_type": "display_data"
    },
    {
     "name": "stdout",
     "output_type": "stream",
     "text": [
      "1/1 [==============================] - 0s 14ms/step\n",
      "Actual: cloud\n",
      "Predicted: cloud\n"
     ]
    },
    {
     "data": {
      "image/png": "[encoded data removed]",
      "text/plain": [
       "<Figure size 640x480 with 1 Axes>"
      ]
     },
     "metadata": {},
     "output_type": "display_data"
    },
    {
     "name": "stdout",
     "output_type": "stream",
     "text": [
      "1/1 [==============================] - 0s 17ms/step\n",
      "Actual: wheel\n",
      "Predicted: wheel\n"
     ]
    },
    {
     "data": {
      "image/png": "[encoded data removed]",
      "text/plain": [
       "<Figure size 640x480 with 1 Axes>"
      ]
     },
     "metadata": {},
     "output_type": "display_data"
    },
    {
     "name": "stdout",
     "output_type": "stream",
     "text": [
      "1/1 [==============================] - 0s 15ms/step\n",
      "Actual: candle\n",
      "Predicted: candle\n"
     ]
    },
    {
     "data": {
      "image/png": "[encoded data removed]",
      "text/plain": [
       "<Figure size 640x480 with 1 Axes>"
      ]
     },
     "metadata": {},
     "output_type": "display_data"
    },
    {
     "name": "stdout",
     "output_type": "stream",
     "text": [
      "1/1 [==============================] - 0s 15ms/step\n",
      "Actual: circle\n",
      "Predicted: circle\n"
     ]
    },
    {
     "data": {
      "image/png": "[encoded data removed]",
      "text/plain": [
       "<Figure size 640x480 with 1 Axes>"
      ]
     },
     "metadata": {},
     "output_type": "display_data"
    },
    {
     "name": "stdout",
     "output_type": "stream",
     "text": [
      "1/1 [==============================] - 0s 16ms/step\n",
      "Actual: square\n",
      "Predicted: square\n"
     ]
    }
   ],
   "source": [
    "def visualize_and_predict():\n",
    "    \"selects a random test case and shows the object, the prediction and the expected result\"\n",
    "    n = randint(0, len(x_test))\n",
    "    plt.imshow(x_test[n])\n",
    "    plt.show()\n",
    "    pred = FRUITS[np.argmax(model.predict(np.array([x_test[n]])))]\n",
    "    actual = FRUITS[y_test[n]]\n",
    "    print(\"Actual:\", actual)\n",
    "    print(\"Predicted:\", pred)\n",
    "\n",
    "\n",
    "for i in range(5):\n",
    "    visualize_and_predict()"
   ]
  },
  {
   "cell_type": "code",
   "execution_count": 17,
   "metadata": {},
   "outputs": [
    {
     "data": {
      "text/plain": [
       "(28, 28, 1)"
      ]
     },
     "execution_count": 17,
     "metadata": {},
     "output_type": "execute_result"
    }
   ],
   "source": [
    "x_test[0].shape"
   ]
  },
  {
   "cell_type": "code",
   "execution_count": 18,
   "metadata": {},
   "outputs": [],
   "source": [
    "from keras.models import load_model\n",
    "model = load_model('model.h5')"
   ]
  },
  {
   "cell_type": "code",
   "execution_count": 19,
   "metadata": {},
   "outputs": [
    {
     "name": "stderr",
     "output_type": "stream",
     "text": [
      "c:\\Users\\gagan\\anaconda3\\envs\\gpu\\lib\\site-packages\\tqdm\\auto.py:21: TqdmWarning: IProgress not found. Please update jupyter and ipywidgets. See https://ipywidgets.readthedocs.io/en/stable/user_install.html\n",
      "  from .autonotebook import tqdm as notebook_tqdm\n"
     ]
    }
   ],
   "source": [
    "import gradio as gr"
   ]
  },
  {
   "cell_type": "code",
   "execution_count": 20,
   "metadata": {},
   "outputs": [],
   "source": [
    "# def classification_of_digits(img):\n",
    "#   img_3d=img.reshape(1,28,28,1)\n",
    "#   im_resize=list(map(normalize, img_3d))\n",
    "#   prediction=model.predict(np.array(im_resize))\n",
    "#   pred=np.argmax(prediction)\n",
    "#   return FRUITS[pred]\n",
    "def classify_hand_drawn(sketch):\n",
    "    sketch_3d = sketch.reshape(1, 28, 28, 1)\n",
    "    sketch_normalized = normalize(sketch_3d)\n",
    "    prediction = model.predict(sketch_normalized)\n",
    "    predicted_class = np.argmax(prediction)\n",
    "    return FRUITS[predicted_class]\n"
   ]
  },
  {
   "cell_type": "code",
   "execution_count": 21,
   "metadata": {},
   "outputs": [
    {
     "name": "stdout",
     "output_type": "stream",
     "text": [
      "Running on local URL:  http://127.0.0.1:7860\n",
      "\n",
      "Could not create share link. Please check your internet connection or our status page: https://status.gradio.app.\n"
     ]
    },
    {
     "data": {
      "text/html": [
       "<div><iframe src=\"http://127.0.0.1:7860/\" width=\"100%\" height=\"500\" allow=\"autoplay; camera; microphone; clipboard-read; clipboard-write;\" frameborder=\"0\" allowfullscreen></iframe></div>"
      ],
      "text/plain": [
       "<IPython.core.display.HTML object>"
      ]
     },
     "metadata": {},
     "output_type": "display_data"
    },
    {
     "data": {
      "text/plain": []
     },
     "execution_count": 21,
     "metadata": {},
     "output_type": "execute_result"
    },
    {
     "name": "stdout",
     "output_type": "stream",
     "text": [
      "1/1 [==============================] - 0s 49ms/step\n",
      "1/1 [==============================] - 0s 16ms/step\n",
      "1/1 [==============================] - 0s 15ms/step\n",
      "1/1 [==============================] - 0s 16ms/step\n",
      "1/1 [==============================] - 0s 15ms/step\n"
     ]
    }
   ],
   "source": [
    "# digit_interface = gr.Interface(classification_of_digits, inputs=\"sketchpad\", outputs=\"label\",title=\"AI Doodle Game\",description=\"Can a neural network learn to recognize doodling? \")\n",
    "# digit_interface.launch(share=True)\n",
    "\n",
    "hand_drawn_interface = gr.Interface(classify_hand_drawn, inputs=\"sketchpad\", outputs=\"label\", title=\"AI Doodle Game\", description=\"Can a neural network learn to recognize doodling?\")\n",
    "hand_drawn_interface.launch(share=True)\n"
   ]
  },
  {
   "cell_type": "code",
   "execution_count": null,
   "metadata": {},
   "outputs": [],
   "source": []
  }
 ],
 "metadata": {
  "kernelspec": {
   "display_name": "gpu",
   "language": "python",
   "name": "python3"
  },
  "language_info": {
   "codemirror_mode": {
    "name": "ipython",
    "version": 3
   },
   "file_extension": ".py",
   "mimetype": "text/x-python",
   "name": "python",
   "nbconvert_exporter": "python",
   "pygments_lexer": "ipython3",
   "version": "3.8.17"
  },
  "orig_nbformat": 4
 },
 "nbformat": 4,
 "nbformat_minor": 2
}
